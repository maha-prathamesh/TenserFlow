{
 "cells": [
  {
   "cell_type": "code",
   "execution_count": 2,
   "id": "unsigned-windows",
   "metadata": {},
   "outputs": [],
   "source": [
    "import tensorflow as tf\n",
    "import numpy as np\n",
    "import matplotlib.pyplot as plt"
   ]
  },
  {
   "cell_type": "markdown",
   "id": "major-secretariat",
   "metadata": {},
   "source": [
    "# Improving Computer Vision Accuracy using Convolutions"
   ]
  },
  {
   "cell_type": "markdown",
   "id": "aggregate-cover",
   "metadata": {},
   "source": [
    "## SIMPLE DNN"
   ]
  },
  {
   "cell_type": "code",
   "execution_count": 17,
   "id": "preliminary-notebook",
   "metadata": {},
   "outputs": [
    {
     "name": "stdout",
     "output_type": "stream",
     "text": [
      "Epoch 1/5\n",
      "60000/60000 [==============================] - 5s 80us/sample - loss: 0.4960 - accuracy: 0.8247\n",
      "Epoch 2/5\n",
      "60000/60000 [==============================] - 5s 75us/sample - loss: 0.3737 - accuracy: 0.8651\n",
      "Epoch 3/5\n",
      "60000/60000 [==============================] - 4s 74us/sample - loss: 0.3350 - accuracy: 0.8772\n",
      "Epoch 4/5\n",
      "60000/60000 [==============================] - 5s 85us/sample - loss: 0.3109 - accuracy: 0.8856\n",
      "Epoch 5/5\n",
      "60000/60000 [==============================] - 4s 70us/sample - loss: 0.2921 - accuracy: 0.8932\n",
      "10000/10000 [==============================] - 0s 45us/sample - loss: 0.3331 - accuracy: 0.8821\n"
     ]
    }
   ],
   "source": [
    "mnist = tf.keras.datasets.fashion_mnist\n",
    "(training_images, training_labels), (test_images, test_labels) = mnist.load_data()\n",
    "\n",
    "training_images=training_images.reshape(60000, 28, 28, 1)\n",
    "training_images=training_images / 255.0\n",
    "test_images = test_images.reshape(10000, 28, 28, 1)\n",
    "test_images=test_images/255.0\n",
    "\n",
    "model = tf.keras.models.Sequential([\n",
    "  tf.keras.layers.Flatten(),\n",
    "  tf.keras.layers.Dense(128, activation=tf.nn.relu),\n",
    "  tf.keras.layers.Dense(10, activation=tf.nn.softmax)\n",
    "])\n",
    "\n",
    "model.compile(optimizer='adam', loss='sparse_categorical_crossentropy', metrics=['accuracy'])\n",
    "\n",
    "model.fit(training_images, training_labels, epochs=5)\n",
    "\n",
    "test_loss = model.evaluate(test_images, test_labels)"
   ]
  },
  {
   "cell_type": "markdown",
   "id": "immune-sunday",
   "metadata": {},
   "source": [
    "## CNN"
   ]
  },
  {
   "cell_type": "markdown",
   "id": "responsible-vacuum",
   "metadata": {},
   "source": [
    "Your accuracy is probably about 89% on training and 87% on validation...not bad...But how do you make that even better? One way is to use something called Convolutions. I'm not going to details on Convolutions here, but the ultimate concept is that they narrow down the content of the image to focus on specific, distinct, details. \n",
    "\n",
    "If you've ever done image processing using a filter (like this: https://en.wikipedia.org/wiki/Kernel_(image_processing)) then convolutions will look very familiar.\n",
    "\n",
    "In short, you take an array (usually 3x3 or 5x5) and pass it over the image. By changing the underlying pixels based on the formula within that matrix, you can do things like edge detection. So, for example, if you look at the above link, you'll see a 3x3 that is defined for edge detection where the middle cell is 8, and all of its neighbors are -1. In this case, for each pixel, you would multiply its value by 8, then subtract the value of each neighbor. Do this for every pixel, and you'll end up with a new image that has the edges enhanced.\n",
    "\n",
    "That's the concept of Convolutional Neural Networks. Add some layers to do convolution before you have the dense layers, and then the information going to the dense layers is more focussed, and possibly more accurate.\n",
    "\n",
    "Run the below code -- this is the same neural network as earlier, but this time with Convolutional layers added first. It will take longer, but look at the impact on the accuracy:"
   ]
  },
  {
   "cell_type": "code",
   "execution_count": 18,
   "id": "average-designer",
   "metadata": {},
   "outputs": [
    {
     "name": "stdout",
     "output_type": "stream",
     "text": [
      "Epoch 1/5\n",
      "60000/60000 [==============================] - 61s 1ms/sample - loss: 0.4417 - accuracy: 0.8369\n",
      "Epoch 2/5\n",
      "60000/60000 [==============================] - 62s 1ms/sample - loss: 0.2954 - accuracy: 0.8906\n",
      "Epoch 3/5\n",
      "60000/60000 [==============================] - 61s 1ms/sample - loss: 0.2463 - accuracy: 0.9090\n",
      "Epoch 4/5\n",
      "60000/60000 [==============================] - 64s 1ms/sample - loss: 0.2179 - accuracy: 0.9182\n",
      "Epoch 5/5\n",
      "60000/60000 [==============================] - 65s 1ms/sample - loss: 0.1912 - accuracy: 0.9282\n",
      "Model: \"sequential_7\"\n",
      "_________________________________________________________________\n",
      "Layer (type)                 Output Shape              Param #   \n",
      "=================================================================\n",
      "conv2d_6 (Conv2D)            (None, 26, 26, 64)        640       \n",
      "_________________________________________________________________\n",
      "max_pooling2d_6 (MaxPooling2 (None, 13, 13, 64)        0         \n",
      "_________________________________________________________________\n",
      "conv2d_7 (Conv2D)            (None, 11, 11, 64)        36928     \n",
      "_________________________________________________________________\n",
      "max_pooling2d_7 (MaxPooling2 (None, 5, 5, 64)          0         \n",
      "_________________________________________________________________\n",
      "flatten_11 (Flatten)         (None, 1600)              0         \n",
      "_________________________________________________________________\n",
      "dense_14 (Dense)             (None, 128)               204928    \n",
      "_________________________________________________________________\n",
      "dense_15 (Dense)             (None, 10)                1290      \n",
      "=================================================================\n",
      "Total params: 243,786\n",
      "Trainable params: 243,786\n",
      "Non-trainable params: 0\n",
      "_________________________________________________________________\n",
      "10000/10000 [==============================] - 2s 246us/sample - loss: 0.2610 - accuracy: 0.9101\n"
     ]
    },
    {
     "data": {
      "text/plain": [
       "[0.2610365111768246, 0.9101]"
      ]
     },
     "execution_count": 18,
     "metadata": {},
     "output_type": "execute_result"
    }
   ],
   "source": [
    "mnist = tf.keras.datasets.fashion_mnist\n",
    "\n",
    "(training_images, training_labels), (test_images, test_labels) = mnist.load_data()\n",
    "\n",
    "training_images=training_images.reshape(60000, 28, 28, 1)\n",
    "training_images=training_images / 255.0\n",
    "test_images = test_images.reshape(10000, 28, 28, 1)\n",
    "test_images=test_images/255.0\n",
    "\n",
    "model = tf.keras.models.Sequential([\n",
    "              tf.keras.layers.Conv2D(64, (3,3), activation='relu', input_shape=(28, 28, 1)),\n",
    "              tf.keras.layers.MaxPooling2D(2, 2),\n",
    "              tf.keras.layers.Conv2D(64, (3,3), activation='relu'),\n",
    "              tf.keras.layers.MaxPooling2D(2,2),\n",
    "              tf.keras.layers.Flatten(),\n",
    "              tf.keras.layers.Dense(128, activation=tf.nn.relu),\n",
    "              tf.keras.layers.Dense(10, activation=tf.nn.softmax)\n",
    "        ])\n",
    "\n",
    "model.compile(optimizer='adam', loss='sparse_categorical_crossentropy', metrics=['accuracy'])\n",
    "\n",
    "model.fit(training_images, training_labels, epochs=5)\n",
    "\n",
    "model.summary()\n",
    "\n",
    "test_loss = model.evaluate(test_images, test_labels)\n",
    "test_loss"
   ]
  },
  {
   "cell_type": "markdown",
   "id": "vital-hopkins",
   "metadata": {},
   "source": [
    "### Steps to follow"
   ]
  },
  {
   "cell_type": "markdown",
   "id": "english-distance",
   "metadata": {},
   "source": [
    "Step 1 : is to gather the data. You'll notice that there's a bit of a change here in that the training data needed to be reshaped. That's because the first convolution expects a single tensor containing everything, so instead of 60,000 28x28x1 items in a list, we have a single 4D list that is 60,000x28x28x1, and the same for the test images. If you don't do this, you'll get an error when training as the Convolutions do not recognize the shape."
   ]
  },
  {
   "cell_type": "markdown",
   "id": "improving-remedy",
   "metadata": {},
   "source": [
    "Step 2 : Next is to define your model. Now instead of the input layer at the top, you're going to add a Convolution. The parameters are:\n",
    "\n",
    "The number of convolutions you want to generate. Purely arbitrary, but good to start with something in the order of 32\n",
    "The size of the Convolution, in this case a 3x3 grid\n",
    "The activation function to use -- in this case we'll use relu, which you might recall is the equivalent of returning x when x>0, else returning 0\n",
    "In the first layer, the shape of the input data"
   ]
  },
  {
   "cell_type": "markdown",
   "id": "necessary-numbers",
   "metadata": {},
   "source": [
    "Step 3 : Now flatten the output. After this you'll just have the same DNN structure as the non convolutional version"
   ]
  },
  {
   "cell_type": "markdown",
   "id": "correct-steel",
   "metadata": {},
   "source": [
    "Step 4 : The same 128 dense layers, and 10 output layers as in the pre-convolution example:"
   ]
  },
  {
   "cell_type": "markdown",
   "id": "sunrise-technology",
   "metadata": {},
   "source": [
    "Step 5 : Now compile the model, call the fit method to do the training, and evaluate the loss and accuracy from the test set."
   ]
  },
  {
   "cell_type": "markdown",
   "id": "incorporate-george",
   "metadata": {},
   "source": [
    "# Visualizing the Convolutions and Pooling"
   ]
  },
  {
   "cell_type": "markdown",
   "id": "useful-rachel",
   "metadata": {},
   "source": [
    "This code will show us the convolutions graphically. The print (test_labels[;100]) shows us the first 100 labels in the test set, and you can see that the ones at index 0, index 23 and index 28 are all the same value (9). They're all shoes. Let's take a look at the result of running the convolution on each, and you'll begin to see common features between them emerge. Now, when the DNN is training on that data, it's working with a lot less, and it's perhaps finding a commonality between shoes based on this convolution/pooling combination."
   ]
  },
  {
   "cell_type": "code",
   "execution_count": 20,
   "id": "rough-breathing",
   "metadata": {},
   "outputs": [
    {
     "name": "stdout",
     "output_type": "stream",
     "text": [
      "[9 2 1 1 6 1 4 6 5 7 4 5 7 3 4 1 2 4 8 0 2 5 7 9 1 4 6 0 9 3 8 8 3 3 8 0 7\n",
      " 5 7 9 6 1 3 7 6 7 2 1 2 2 4 4 5 8 2 2 8 4 8 0 7 7 8 5 1 1 2 3 9 8 7 0 2 6\n",
      " 2 3 1 2 8 4 1 8 5 9 5 0 3 2 0 6 5 3 6 7 1 8 0 1 4 2]\n"
     ]
    }
   ],
   "source": [
    "print(test_labels[:100])"
   ]
  },
  {
   "cell_type": "code",
   "execution_count": 28,
   "id": "infrared-burton",
   "metadata": {},
   "outputs": [
    {
     "data": {
      "text/plain": [
       "[<tf.Tensor 'conv2d_6/Relu:0' shape=(None, 26, 26, 64) dtype=float32>,\n",
       " <tf.Tensor 'max_pooling2d_6/MaxPool:0' shape=(None, 13, 13, 64) dtype=float32>,\n",
       " <tf.Tensor 'conv2d_7/Relu:0' shape=(None, 11, 11, 64) dtype=float32>,\n",
       " <tf.Tensor 'max_pooling2d_7/MaxPool:0' shape=(None, 5, 5, 64) dtype=float32>,\n",
       " <tf.Tensor 'flatten_11/Reshape:0' shape=(None, 1600) dtype=float32>,\n",
       " <tf.Tensor 'dense_14/Relu:0' shape=(None, 128) dtype=float32>,\n",
       " <tf.Tensor 'dense_15/Softmax:0' shape=(None, 10) dtype=float32>]"
      ]
     },
     "execution_count": 28,
     "metadata": {},
     "output_type": "execute_result"
    }
   ],
   "source": [
    "FIRST_IMAGE = 0\n",
    "SECOND_IMAGE = 99\n",
    "THIRD_IMAGE = 27\n",
    "CONVOLUTION_NUMBER = 1\n",
    "\n",
    "layer_outputs = [layer.output for layer in model.layers]\n",
    "layer_outputs"
   ]
  },
  {
   "cell_type": "code",
   "execution_count": 29,
   "id": "brutal-religious",
   "metadata": {},
   "outputs": [
    {
     "data": {
      "text/plain": [
       "<tf.Tensor 'conv2d_6_input:0' shape=(None, 28, 28, 1) dtype=float32>"
      ]
     },
     "execution_count": 29,
     "metadata": {},
     "output_type": "execute_result"
    }
   ],
   "source": [
    "model.input"
   ]
  },
  {
   "cell_type": "code",
   "execution_count": 30,
   "id": "nominated-dietary",
   "metadata": {},
   "outputs": [
    {
     "data": {
      "text/plain": [
       "<tensorflow.python.keras.engine.training.Model at 0x7fcc44d77310>"
      ]
     },
     "execution_count": 30,
     "metadata": {},
     "output_type": "execute_result"
    }
   ],
   "source": [
    "activation_model = tf.keras.models.Model(inputs = model.input, outputs = layer_outputs)\n",
    "activation_model"
   ]
  },
  {
   "cell_type": "code",
   "execution_count": 31,
   "id": "prompt-bookmark",
   "metadata": {},
   "outputs": [
    {
     "data": {
      "image/png": "[encoded data removed]",
      "text/plain": [
       "<Figure size 432x288 with 12 Axes>"
      ]
     },
     "metadata": {
      "needs_background": "light"
     },
     "output_type": "display_data"
    }
   ],
   "source": [
    "f, axarr = plt.subplots(3,4)\n",
    "for x in range(0,4):\n",
    "  f1 = activation_model.predict(test_images[FIRST_IMAGE].reshape(1, 28, 28, 1))[x]\n",
    "  axarr[0,x].imshow(f1[0, : , :, CONVOLUTION_NUMBER], cmap='inferno')\n",
    "  axarr[0,x].grid(False)\n",
    "  f2 = activation_model.predict(test_images[SECOND_IMAGE].reshape(1, 28, 28, 1))[x]\n",
    "  axarr[1,x].imshow(f2[0, : , :, CONVOLUTION_NUMBER], cmap='inferno')\n",
    "  axarr[1,x].grid(False)\n",
    "  f3 = activation_model.predict(test_images[THIRD_IMAGE].reshape(1, 28, 28, 1))[x]\n",
    "  axarr[2,x].imshow(f3[0, : , :, CONVOLUTION_NUMBER], cmap='inferno')\n",
    "  axarr[2,x].grid(False)"
   ]
  },
  {
   "cell_type": "markdown",
   "id": "spoken-smith",
   "metadata": {},
   "source": [
    "# EXERCISES"
   ]
  },
  {
   "cell_type": "markdown",
   "id": "durable-excerpt",
   "metadata": {},
   "source": [
    "## change convolution filter from 64 to 32"
   ]
  },
  {
   "cell_type": "code",
   "execution_count": 33,
   "id": "private-lying",
   "metadata": {},
   "outputs": [
    {
     "name": "stdout",
     "output_type": "stream",
     "text": [
      "Epoch 1/5\n",
      "60000/60000 [==============================] - 32s 536us/sample - loss: 0.4756 - accuracy: 0.8274\n",
      "Epoch 2/5\n",
      "60000/60000 [==============================] - 36s 601us/sample - loss: 0.3168 - accuracy: 0.8845\n",
      "Epoch 3/5\n",
      "60000/60000 [==============================] - 36s 600us/sample - loss: 0.2716 - accuracy: 0.9006\n",
      "Epoch 4/5\n",
      "60000/60000 [==============================] - 37s 624us/sample - loss: 0.2427 - accuracy: 0.9111\n",
      "Epoch 5/5\n",
      "60000/60000 [==============================] - 36s 599us/sample - loss: 0.2190 - accuracy: 0.9183\n",
      "Model: \"sequential_8\"\n",
      "_________________________________________________________________\n",
      "Layer (type)                 Output Shape              Param #   \n",
      "=================================================================\n",
      "conv2d_8 (Conv2D)            (None, 26, 26, 32)        320       \n",
      "_________________________________________________________________\n",
      "max_pooling2d_8 (MaxPooling2 (None, 13, 13, 32)        0         \n",
      "_________________________________________________________________\n",
      "conv2d_9 (Conv2D)            (None, 11, 11, 32)        9248      \n",
      "_________________________________________________________________\n",
      "max_pooling2d_9 (MaxPooling2 (None, 5, 5, 32)          0         \n",
      "_________________________________________________________________\n",
      "flatten_12 (Flatten)         (None, 800)               0         \n",
      "_________________________________________________________________\n",
      "dense_16 (Dense)             (None, 128)               102528    \n",
      "_________________________________________________________________\n",
      "dense_17 (Dense)             (None, 10)                1290      \n",
      "=================================================================\n",
      "Total params: 113,386\n",
      "Trainable params: 113,386\n",
      "Non-trainable params: 0\n",
      "_________________________________________________________________\n",
      "10000/10000 [==============================] - 2s 203us/sample - loss: 0.2516 - accuracy: 0.9086\n"
     ]
    },
    {
     "data": {
      "text/plain": [
       "[0.251630320417881, 0.9086]"
      ]
     },
     "execution_count": 33,
     "metadata": {},
     "output_type": "execute_result"
    }
   ],
   "source": [
    "mnist = tf.keras.datasets.fashion_mnist\n",
    "\n",
    "(training_images, training_labels), (test_images, test_labels) = mnist.load_data()\n",
    "\n",
    "training_images=training_images.reshape(60000, 28, 28, 1)\n",
    "training_images=training_images / 255.0\n",
    "test_images = test_images.reshape(10000, 28, 28, 1)\n",
    "test_images=test_images/255.0\n",
    "\n",
    "model = tf.keras.models.Sequential([\n",
    "              tf.keras.layers.Conv2D(32, (3,3), activation='relu', input_shape=(28, 28, 1)),\n",
    "              tf.keras.layers.MaxPooling2D(2, 2),\n",
    "              tf.keras.layers.Conv2D(32, (3,3), activation='relu'),\n",
    "              tf.keras.layers.MaxPooling2D(2,2),\n",
    "              tf.keras.layers.Flatten(),\n",
    "              tf.keras.layers.Dense(128, activation=tf.nn.relu),\n",
    "              tf.keras.layers.Dense(10, activation=tf.nn.softmax)\n",
    "        ])\n",
    "\n",
    "model.compile(optimizer='adam', loss='sparse_categorical_crossentropy', metrics=['accuracy'])\n",
    "\n",
    "model.fit(training_images, training_labels, epochs=5)\n",
    "\n",
    "model.summary()\n",
    "\n",
    "test_loss = model.evaluate(test_images, test_labels)\n",
    "test_loss"
   ]
  },
  {
   "cell_type": "markdown",
   "id": "numerous-grenada",
   "metadata": {},
   "source": [
    "## Remove Second Layer of Conv"
   ]
  },
  {
   "cell_type": "code",
   "execution_count": 34,
   "id": "flying-interference",
   "metadata": {},
   "outputs": [
    {
     "name": "stdout",
     "output_type": "stream",
     "text": [
      "Epoch 1/5\n",
      "60000/60000 [==============================] - 54s 899us/sample - loss: 0.3769 - accuracy: 0.8655\n",
      "Epoch 2/5\n",
      "60000/60000 [==============================] - 51s 853us/sample - loss: 0.2571 - accuracy: 0.9071\n",
      "Epoch 3/5\n",
      "60000/60000 [==============================] - 52s 867us/sample - loss: 0.2129 - accuracy: 0.9210\n",
      "Epoch 4/5\n",
      "60000/60000 [==============================] - 51s 842us/sample - loss: 0.1794 - accuracy: 0.9339\n",
      "Epoch 5/5\n",
      "60000/60000 [==============================] - 51s 843us/sample - loss: 0.1497 - accuracy: 0.9455\n",
      "Model: \"sequential_9\"\n",
      "_________________________________________________________________\n",
      "Layer (type)                 Output Shape              Param #   \n",
      "=================================================================\n",
      "conv2d_10 (Conv2D)           (None, 26, 26, 64)        640       \n",
      "_________________________________________________________________\n",
      "max_pooling2d_10 (MaxPooling (None, 13, 13, 64)        0         \n",
      "_________________________________________________________________\n",
      "flatten_13 (Flatten)         (None, 10816)             0         \n",
      "_________________________________________________________________\n",
      "dense_18 (Dense)             (None, 128)               1384576   \n",
      "_________________________________________________________________\n",
      "dense_19 (Dense)             (None, 10)                1290      \n",
      "=================================================================\n",
      "Total params: 1,386,506\n",
      "Trainable params: 1,386,506\n",
      "Non-trainable params: 0\n",
      "_________________________________________________________________\n",
      "10000/10000 [==============================] - 2s 228us/sample - loss: 0.2505 - accuracy: 0.9168\n"
     ]
    },
    {
     "data": {
      "text/plain": [
       "[0.25051212109625337, 0.9168]"
      ]
     },
     "execution_count": 34,
     "metadata": {},
     "output_type": "execute_result"
    }
   ],
   "source": [
    "mnist = tf.keras.datasets.fashion_mnist\n",
    "\n",
    "(training_images, training_labels), (test_images, test_labels) = mnist.load_data()\n",
    "\n",
    "training_images=training_images.reshape(60000, 28, 28, 1)\n",
    "training_images=training_images / 255.0\n",
    "test_images = test_images.reshape(10000, 28, 28, 1)\n",
    "test_images=test_images/255.0\n",
    "\n",
    "model = tf.keras.models.Sequential([\n",
    "              tf.keras.layers.Conv2D(64, (3,3), activation='relu', input_shape=(28, 28, 1)),\n",
    "              tf.keras.layers.MaxPooling2D(2, 2),\n",
    "              tf.keras.layers.Flatten(),\n",
    "              tf.keras.layers.Dense(128, activation=tf.nn.relu),\n",
    "              tf.keras.layers.Dense(10, activation=tf.nn.softmax)\n",
    "        ])\n",
    "\n",
    "model.compile(optimizer='adam', loss='sparse_categorical_crossentropy', metrics=['accuracy'])\n",
    "\n",
    "model.fit(training_images, training_labels, epochs=5)\n",
    "\n",
    "model.summary()\n",
    "\n",
    "test_loss = model.evaluate(test_images, test_labels)\n",
    "test_loss"
   ]
  },
  {
   "cell_type": "markdown",
   "id": "magnetic-coupon",
   "metadata": {},
   "source": [
    "## Adding more convolution"
   ]
  },
  {
   "cell_type": "code",
   "execution_count": 35,
   "id": "nonprofit-hayes",
   "metadata": {},
   "outputs": [
    {
     "name": "stdout",
     "output_type": "stream",
     "text": [
      "Epoch 1/5\n",
      "60000/60000 [==============================] - 43s 708us/sample - loss: 0.6344 - accuracy: 0.7667\n",
      "Epoch 2/5\n",
      "60000/60000 [==============================] - 41s 680us/sample - loss: 0.4321 - accuracy: 0.8416\n",
      "Epoch 3/5\n",
      "60000/60000 [==============================] - 41s 677us/sample - loss: 0.3821 - accuracy: 0.8599\n",
      "Epoch 4/5\n",
      "60000/60000 [==============================] - 36s 603us/sample - loss: 0.3466 - accuracy: 0.8716\n",
      "Epoch 5/5\n",
      "60000/60000 [==============================] - 36s 594us/sample - loss: 0.3248 - accuracy: 0.8783\n",
      "Model: \"sequential_10\"\n",
      "_________________________________________________________________\n",
      "Layer (type)                 Output Shape              Param #   \n",
      "=================================================================\n",
      "conv2d_11 (Conv2D)           (None, 26, 26, 32)        320       \n",
      "_________________________________________________________________\n",
      "max_pooling2d_11 (MaxPooling (None, 13, 13, 32)        0         \n",
      "_________________________________________________________________\n",
      "conv2d_12 (Conv2D)           (None, 11, 11, 32)        9248      \n",
      "_________________________________________________________________\n",
      "max_pooling2d_12 (MaxPooling (None, 5, 5, 32)          0         \n",
      "_________________________________________________________________\n",
      "conv2d_13 (Conv2D)           (None, 3, 3, 32)          9248      \n",
      "_________________________________________________________________\n",
      "max_pooling2d_13 (MaxPooling (None, 1, 1, 32)          0         \n",
      "_________________________________________________________________\n",
      "flatten_14 (Flatten)         (None, 32)                0         \n",
      "_________________________________________________________________\n",
      "dense_20 (Dense)             (None, 128)               4224      \n",
      "_________________________________________________________________\n",
      "dense_21 (Dense)             (None, 10)                1290      \n",
      "=================================================================\n",
      "Total params: 24,330\n",
      "Trainable params: 24,330\n",
      "Non-trainable params: 0\n",
      "_________________________________________________________________\n",
      "10000/10000 [==============================] - 1s 135us/sample - loss: 0.3684 - accuracy: 0.8650\n"
     ]
    },
    {
     "data": {
      "text/plain": [
       "[0.3684345170021057, 0.865]"
      ]
     },
     "execution_count": 35,
     "metadata": {},
     "output_type": "execute_result"
    }
   ],
   "source": [
    "mnist = tf.keras.datasets.fashion_mnist\n",
    "\n",
    "(training_images, training_labels), (test_images, test_labels) = mnist.load_data()\n",
    "\n",
    "training_images=training_images.reshape(60000, 28, 28, 1)\n",
    "training_images=training_images / 255.0\n",
    "test_images = test_images.reshape(10000, 28, 28, 1)\n",
    "test_images=test_images/255.0\n",
    "\n",
    "model = tf.keras.models.Sequential([\n",
    "              tf.keras.layers.Conv2D(32, (3,3), activation='relu', input_shape=(28, 28, 1)),\n",
    "              tf.keras.layers.MaxPooling2D(2, 2),\n",
    "              tf.keras.layers.Conv2D(32, (3,3), activation='relu'),\n",
    "              tf.keras.layers.MaxPooling2D(2,2),\n",
    "              tf.keras.layers.Conv2D(32, (3,3), activation='relu'),\n",
    "              tf.keras.layers.MaxPooling2D(2,2),\n",
    "              tf.keras.layers.Flatten(),\n",
    "              tf.keras.layers.Dense(128, activation=tf.nn.relu),\n",
    "              tf.keras.layers.Dense(10, activation=tf.nn.softmax)\n",
    "        ])\n",
    "\n",
    "model.compile(optimizer='adam', loss='sparse_categorical_crossentropy', metrics=['accuracy'])\n",
    "\n",
    "model.fit(training_images, training_labels, epochs=5)\n",
    "\n",
    "model.summary()\n",
    "\n",
    "test_loss = model.evaluate(test_images, test_labels)\n",
    "test_loss"
   ]
  },
  {
   "cell_type": "markdown",
   "id": "iraqi-vertical",
   "metadata": {},
   "source": [
    "# Results:"
   ]
  },
  {
   "cell_type": "markdown",
   "id": "abroad-marina",
   "metadata": {},
   "source": [
    "Simple DNN  : <br>\n",
    "Epoch 5/5<br>\n",
    "60000/60000 [==============================] - 4s 70us/sample - loss: 0.2921 - accuracy: 0.8932<br>\n",
    "10000/10000 [==============================] - 0s 45us/sample - loss: 0.3331 - accuracy: 0.8821<br>"
   ]
  },
  {
   "cell_type": "markdown",
   "id": "maritime-adolescent",
   "metadata": {},
   "source": [
    "Convolution with 2 layer of 64:<br>\n",
    "Epoch 5/5<br>\n",
    "60000/60000 [==============================] - 65s 1ms/sample - loss: 0.1912 - accuracy: 0.9282<br>\n",
    "10000/10000 [==============================] - 2s 246us/sample - loss: 0.2610 - accuracy: 0.9101<br>"
   ]
  },
  {
   "cell_type": "markdown",
   "id": "respiratory-increase",
   "metadata": {},
   "source": [
    "Change convolution filter from 64 to 32: <br>\n",
    "Epoch 5/5<br>\n",
    "60000/60000 [==============================] - 36s 599us/sample - loss: 0.2190 - accuracy: 0.9183<br>\n",
    "10000/10000 [==============================] - 2s 203us/sample - loss: 0.2516 - accuracy: 0.9086<br>"
   ]
  },
  {
   "cell_type": "markdown",
   "id": "architectural-ladder",
   "metadata": {},
   "source": [
    "Removing 2nd layer of convolution : <br>\n",
    "Epoch 5/5<br>\n",
    "60000/60000 [==============================] - 51s 843us/sample - loss: 0.1497 - accuracy: 0.9455<br>\n",
    "10000/10000 [==============================] - 2s 228us/sample - loss: 0.2505 - accuracy: 0.9168<br>"
   ]
  },
  {
   "cell_type": "markdown",
   "id": "clinical-palmer",
   "metadata": {},
   "source": [
    "Adding 3rd layer of convolution : <br>\n",
    "Epoch 5/5<br>\n",
    "60000/60000 [==============================] - 36s 594us/sample - loss: 0.3248 - accuracy: 0.8783<br>\n",
    "10000/10000 [==============================] - 1s 135us/sample - loss: 0.3684 - accuracy: 0.8650<br>"
   ]
  }
 ],
 "metadata": {
  "kernelspec": {
   "display_name": "Python 3",
   "language": "python",
   "name": "python3"
  },
  "language_info": {
   "codemirror_mode": {
    "name": "ipython",
    "version": 3
   },
   "file_extension": ".py",
   "mimetype": "text/x-python",
   "name": "python",
   "nbconvert_exporter": "python",
   "pygments_lexer": "ipython3",
   "version": "3.7.6"
  },
  "toc": {
   "base_numbering": 1,
   "nav_menu": {},
   "number_sections": true,
   "sideBar": true,
   "skip_h1_title": false,
   "title_cell": "Table of Contents",
   "title_sidebar": "Contents",
   "toc_cell": false,
   "toc_position": {},
   "toc_section_display": true,
   "toc_window_display": false
  }
 },
 "nbformat": 4,
 "nbformat_minor": 5
}
